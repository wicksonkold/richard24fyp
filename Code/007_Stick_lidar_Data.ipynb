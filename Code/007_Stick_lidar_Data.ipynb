{
 "cells": [
  {
   "cell_type": "code",
   "execution_count": 1,
   "id": "d2be5e28-12c9-45a0-bdc2-a30e6d6b659f",
   "metadata": {},
   "outputs": [],
   "source": [
    "import pandas as pd"
   ]
  },
  {
   "cell_type": "code",
   "execution_count": 2,
   "id": "a72a7295-87ca-4d7c-992f-8ef3addf6b3f",
   "metadata": {},
   "outputs": [],
   "source": [
    "df1 = pd.read_csv(r'C:\\Users\\User\\Desktop\\Final Year Project\\HKO Raw Data\\lidar\\glyga_2RS.csv')\n",
    "df2 = pd.read_csv(r'C:\\Users\\User\\Desktop\\Final Year Project\\HKO Raw Data\\lidar\\glyga_I2RS_0.csv')\n",
    "df3 = pd.read_csv(r'C:\\Users\\User\\Desktop\\Final Year Project\\HKO Raw Data\\lidar\\glyga_I2RS_1.csv')\n",
    "df4 = pd.read_csv(r'C:\\Users\\User\\Desktop\\Final Year Project\\HKO Raw Data\\lidar\\glyga_RR.csv')"
   ]
  },
  {
   "cell_type": "code",
   "execution_count": 3,
   "id": "84c36fd1-8546-4a2e-b54b-d33fec73a30b",
   "metadata": {
    "tags": []
   },
   "outputs": [],
   "source": [
    "# Convert the 'DATETIME' column in each DataFrame to datetime objects\n",
    "df1['DATETIME'] = pd.to_datetime(df1['DATETIME']).dt.tz_convert(None)\n",
    "df2['DATETIME'] = pd.to_datetime(df2['DATETIME']).dt.tz_convert(None)\n",
    "df3['DATETIME'] = pd.to_datetime(df3['DATETIME']).dt.tz_convert(None)\n",
    "df4['DATETIME'] = pd.to_datetime(df4['DATETIME']).dt.tz_convert(None)"
   ]
  },
  {
   "cell_type": "code",
   "execution_count": 4,
   "id": "c64d8a3c-f83e-4a8e-945f-97a8718bf49b",
   "metadata": {},
   "outputs": [],
   "source": [
    "# Step 2: Concatenate the DataFrames.\n",
    "# Assuming they all have the same columns and you want to concatenate by rows.\n",
    "concatenated_df = pd.concat([df1, df2, df3, df4], ignore_index=True)"
   ]
  },
  {
   "cell_type": "code",
   "execution_count": 5,
   "id": "bc39e017-4642-443d-9422-d37e376a64b0",
   "metadata": {
    "tags": []
   },
   "outputs": [
    {
     "data": {
      "text/html": [
       "<div>\n",
       "<style scoped>\n",
       "    .dataframe tbody tr th:only-of-type {\n",
       "        vertical-align: middle;\n",
       "    }\n",
       "\n",
       "    .dataframe tbody tr th {\n",
       "        vertical-align: top;\n",
       "    }\n",
       "\n",
       "    .dataframe thead th {\n",
       "        text-align: right;\n",
       "    }\n",
       "</style>\n",
       "<table border=\"1\" class=\"dataframe\">\n",
       "  <thead>\n",
       "    <tr style=\"text-align: right;\">\n",
       "      <th></th>\n",
       "      <th>DATETIME</th>\n",
       "      <th>CORRIDOR_3RS</th>\n",
       "      <th>CORRIDOR_2RS</th>\n",
       "      <th>MAGNITUDE</th>\n",
       "      <th>LOCATION</th>\n",
       "    </tr>\n",
       "  </thead>\n",
       "  <tbody>\n",
       "    <tr>\n",
       "      <th>0</th>\n",
       "      <td>2018-01-02 01:18:00</td>\n",
       "      <td>07RD</td>\n",
       "      <td>07RD</td>\n",
       "      <td>15</td>\n",
       "      <td>1MD</td>\n",
       "    </tr>\n",
       "    <tr>\n",
       "      <th>1</th>\n",
       "      <td>2018-01-02 01:19:00</td>\n",
       "      <td>07RD</td>\n",
       "      <td>07RD</td>\n",
       "      <td>15</td>\n",
       "      <td>1MD</td>\n",
       "    </tr>\n",
       "    <tr>\n",
       "      <th>2</th>\n",
       "      <td>2018-01-02 01:22:00</td>\n",
       "      <td>07RD</td>\n",
       "      <td>07RD</td>\n",
       "      <td>16</td>\n",
       "      <td>1MD</td>\n",
       "    </tr>\n",
       "    <tr>\n",
       "      <th>3</th>\n",
       "      <td>2018-01-02 01:23:00</td>\n",
       "      <td>07RD</td>\n",
       "      <td>07RD</td>\n",
       "      <td>16</td>\n",
       "      <td>1MD</td>\n",
       "    </tr>\n",
       "    <tr>\n",
       "      <th>4</th>\n",
       "      <td>2018-01-02 01:24:00</td>\n",
       "      <td>07RD</td>\n",
       "      <td>07RD</td>\n",
       "      <td>16</td>\n",
       "      <td>1MD</td>\n",
       "    </tr>\n",
       "    <tr>\n",
       "      <th>...</th>\n",
       "      <td>...</td>\n",
       "      <td>...</td>\n",
       "      <td>...</td>\n",
       "      <td>...</td>\n",
       "      <td>...</td>\n",
       "    </tr>\n",
       "    <tr>\n",
       "      <th>422553</th>\n",
       "      <td>2022-07-06 21:28:00</td>\n",
       "      <td>07CA</td>\n",
       "      <td>07LA</td>\n",
       "      <td>-14</td>\n",
       "      <td>2MF</td>\n",
       "    </tr>\n",
       "    <tr>\n",
       "      <th>422554</th>\n",
       "      <td>2022-07-06 21:50:00</td>\n",
       "      <td>25CA</td>\n",
       "      <td>25RA</td>\n",
       "      <td>-15</td>\n",
       "      <td>RWY</td>\n",
       "    </tr>\n",
       "    <tr>\n",
       "      <th>422555</th>\n",
       "      <td>2022-07-06 21:51:00</td>\n",
       "      <td>25CA</td>\n",
       "      <td>25RA</td>\n",
       "      <td>-15</td>\n",
       "      <td>RWY</td>\n",
       "    </tr>\n",
       "    <tr>\n",
       "      <th>422556</th>\n",
       "      <td>2022-07-06 22:03:00</td>\n",
       "      <td>25LD</td>\n",
       "      <td>25LD</td>\n",
       "      <td>14</td>\n",
       "      <td>RWY</td>\n",
       "    </tr>\n",
       "    <tr>\n",
       "      <th>422557</th>\n",
       "      <td>2022-07-06 22:04:00</td>\n",
       "      <td>25LD</td>\n",
       "      <td>25LD</td>\n",
       "      <td>14</td>\n",
       "      <td>RWY</td>\n",
       "    </tr>\n",
       "  </tbody>\n",
       "</table>\n",
       "<p>422558 rows × 5 columns</p>\n",
       "</div>"
      ],
      "text/plain": [
       "                  DATETIME CORRIDOR_3RS CORRIDOR_2RS  MAGNITUDE LOCATION\n",
       "0      2018-01-02 01:18:00         07RD         07RD         15      1MD\n",
       "1      2018-01-02 01:19:00         07RD         07RD         15      1MD\n",
       "2      2018-01-02 01:22:00         07RD         07RD         16      1MD\n",
       "3      2018-01-02 01:23:00         07RD         07RD         16      1MD\n",
       "4      2018-01-02 01:24:00         07RD         07RD         16      1MD\n",
       "...                    ...          ...          ...        ...      ...\n",
       "422553 2022-07-06 21:28:00         07CA         07LA        -14      2MF\n",
       "422554 2022-07-06 21:50:00         25CA         25RA        -15      RWY\n",
       "422555 2022-07-06 21:51:00         25CA         25RA        -15      RWY\n",
       "422556 2022-07-06 22:03:00         25LD         25LD         14      RWY\n",
       "422557 2022-07-06 22:04:00         25LD         25LD         14      RWY\n",
       "\n",
       "[422558 rows x 5 columns]"
      ]
     },
     "execution_count": 5,
     "metadata": {},
     "output_type": "execute_result"
    }
   ],
   "source": [
    "concatenated_df"
   ]
  },
  {
   "cell_type": "code",
   "execution_count": 6,
   "id": "3611522a-cb61-4a5a-932f-b377262d2642",
   "metadata": {},
   "outputs": [],
   "source": [
    "# Step 3: Export the concatenated DataFrame to an Excel file.\n",
    "# You might want to specify an encoding if you have special characters.\n",
    "concatenated_df.to_excel(r'C:\\Users\\User\\Desktop\\Final Year Project\\Code\\Processed_HKO\\HKO_lidar_concatenated_data.xlsx', index=False)"
   ]
  },
  {
   "cell_type": "code",
   "execution_count": null,
   "id": "e99f6262-6b35-410f-9245-6672f84a48f3",
   "metadata": {},
   "outputs": [],
   "source": []
  }
 ],
 "metadata": {
  "kernelspec": {
   "display_name": "Python 3 (ipykernel)",
   "language": "python",
   "name": "python3"
  },
  "language_info": {
   "codemirror_mode": {
    "name": "ipython",
    "version": 3
   },
   "file_extension": ".py",
   "mimetype": "text/x-python",
   "name": "python",
   "nbconvert_exporter": "python",
   "pygments_lexer": "ipython3",
   "version": "3.11.5"
  }
 },
 "nbformat": 4,
 "nbformat_minor": 5
}
